{
 "cells": [
  {
   "cell_type": "markdown",
   "metadata": {},
   "source": [
    "# Sales Data Cleaning "
   ]
  },
  {
   "cell_type": "code",
   "execution_count": 1,
   "metadata": {},
   "outputs": [],
   "source": [
    "import sys\n",
    "sys.path.append(\"..\")\n",
    "# Spark libs\n",
    "from pyspark.sql.session import SparkSession\n",
    "from pyspark.sql.functions import col, lower, mean\n",
    "# helpers\n",
    "from helpers.data_prep_and_print import print_df\n",
    "from helpers.path_translation import translate_to_file_string"
   ]
  },
  {
   "cell_type": "markdown",
   "metadata": {},
   "source": [
    "### Select the Imput File"
   ]
  },
  {
   "cell_type": "code",
   "execution_count": 2,
   "metadata": {},
   "outputs": [],
   "source": [
    "inputFile = translate_to_file_string(\"../data/sales_for_data_cleaning.csv\")"
   ]
  },
  {
   "cell_type": "markdown",
   "metadata": {},
   "source": [
    "### Spark Session Creation"
   ]
  },
  {
   "cell_type": "code",
   "execution_count": 3,
   "metadata": {},
   "outputs": [],
   "source": [
    "spark = (SparkSession\n",
    "       .builder\n",
    "       .appName(\"Sales Data Cleaning\")\n",
    "       .getOrCreate())\n",
    "spark.sparkContext.setLogLevel(\"ERROR\")"
   ]
  },
  {
   "cell_type": "markdown",
   "metadata": {},
   "source": [
    "### Create Dataframe from csv File"
   ]
  },
  {
   "cell_type": "code",
   "execution_count": 4,
   "metadata": {},
   "outputs": [
    {
     "name": "stdout",
     "output_type": "stream",
     "text": [
      "root\n",
      " |-- division: string (nullable = true)\n",
      " |-- level of education: string (nullable = true)\n",
      " |-- training level: integer (nullable = true)\n",
      " |-- work experience: integer (nullable = true)\n",
      " |-- salary: integer (nullable = true)\n",
      " |-- sales: integer (nullable = true)\n",
      "\n",
      "None\n"
     ]
    }
   ],
   "source": [
    "df = spark.read.option(\"header\", \"true\") \\\n",
    "       .option(\"inferSchema\", \"true\") \\\n",
    "       .option(\"delimiter\", \";\") \\\n",
    "       .csv(inputFile)\n",
    "print(df.printSchema())"
   ]
  },
  {
   "cell_type": "markdown",
   "metadata": {},
   "source": [
    "Lower division"
   ]
  },
  {
   "cell_type": "code",
   "execution_count": null,
   "metadata": {},
   "outputs": [
    {
     "name": "stdout",
     "output_type": "stream",
     "text": [
      "+-----------------+-----------+\n",
      "|         division|sum(salary)|\n",
      "+-----------------+-----------+\n",
      "|      peripherals|   23168175|\n",
      "|computer hardware|   14462679|\n",
      "|computer software|    9819655|\n",
      "|         printers|   23487590|\n",
      "|  office supplies|   19093546|\n",
      "+-----------------+-----------+\n",
      "\n",
      "+-----------------+-----------+\n",
      "|         division|sum(salary)|\n",
      "+-----------------+-----------+\n",
      "|      peripherals|   23168175|\n",
      "|computer hardware|   14462679|\n",
      "|computer software|    9819655|\n",
      "|         printers|   23487590|\n",
      "|  office supplies|   19093546|\n",
      "+-----------------+-----------+\n",
      "\n"
     ]
    }
   ],
   "source": [
    "# df.show()\n",
    "df.groupBy(\"division\").sum('salary').show()\n",
    "# set all str to lower case\n",
    "df = df.withColumn('division', lower(df['division']))\n",
    "df.groupBy(\"division\").sum('salary').show()"
   ]
  },
  {
   "cell_type": "markdown",
   "metadata": {},
   "source": [
    "Filter lines with missing values"
   ]
  },
  {
   "cell_type": "code",
   "execution_count": 56,
   "metadata": {},
   "outputs": [
    {
     "name": "stdout",
     "output_type": "stream",
     "text": [
      "+-----------------+------------------+--------------+---------------+------+------+\n",
      "|         division|level of education|training level|work experience|salary| sales|\n",
      "+-----------------+------------------+--------------+---------------+------+------+\n",
      "|         printers|associate's degree|          NULL|              8| 83999|279254|\n",
      "|         printers|associate's degree|          NULL|              9|107626|436135|\n",
      "|computer hardware| bachelor's degree|          NULL|              5| 83525|242034|\n",
      "|         printers|      some college|          NULL|              1| 60898|171167|\n",
      "|computer hardware|associate's degree|          NULL|              3| 92336|359982|\n",
      "|computer hardware|       high school|          NULL|              8| 85988|349882|\n",
      "|      peripherals|      some college|          NULL|              5| 85489|276382|\n",
      "|computer hardware|associate's degree|          NULL|              4| 92837|385342|\n",
      "+-----------------+------------------+--------------+---------------+------+------+\n",
      "\n",
      "+-----------------+------------------+--------------+---------------+------+------+\n",
      "|         division|level of education|training level|work experience|salary| sales|\n",
      "+-----------------+------------------+--------------+---------------+------+------+\n",
      "|computer hardware|associate's degree|             2|           NULL| 75058|260575|\n",
      "|         printers|      some college|             2|           NULL|115433|534143|\n",
      "|      peripherals|associate's degree|             0|           NULL| 85578|285505|\n",
      "|  office supplies|      some college|             1|           NULL|102250|440297|\n",
      "|computer hardware|      some college|             2|           NULL| 70453|176041|\n",
      "|  office supplies|       high school|             1|           NULL| 54591|185905|\n",
      "|computer hardware|associate's degree|             1|           NULL| 92828|358280|\n",
      "|         printers|associate's degree|             3|           NULL| 87602|367803|\n",
      "|computer hardware|      some college|             2|           NULL| 98898|392734|\n",
      "+-----------------+------------------+--------------+---------------+------+------+\n",
      "\n"
     ]
    }
   ],
   "source": [
    "# df.filter(col('division').isNull()).show()\n",
    "# df.filter(col('level of education').isNull()).show()\n",
    "df.filter(col('training level').isNull()).show()\n",
    "df.filter(col('work experience').isNull()).show()\n",
    "# df.filter(col('salary').isNull()).show()\n",
    "# df.filter(col('sales').isNull()).show()\n"
   ]
  },
  {
   "cell_type": "code",
   "execution_count": 33,
   "metadata": {},
   "outputs": [
    {
     "name": "stdout",
     "output_type": "stream",
     "text": [
      "+-----------------+------------------+--------------+---------------+------+------+\n",
      "|         division|level of education|training level|work experience|salary| sales|\n",
      "+-----------------+------------------+--------------+---------------+------+------+\n",
      "|      peripherals|      some college|             1|              6| 87067|299066|\n",
      "|         printers|       high school|             3|              7| 98381|457597|\n",
      "|  office supplies|associate's degree|             1|              7|101528|383462|\n",
      "|  office supplies|associate's degree|             0|              9| 98431|374972|\n",
      "|         printers|associate's degree|             0|              6| 82072|239893|\n",
      "|computer hardware|associate's degree|             2|              8|104295|452952|\n",
      "|         printers|      some college|             1|              8|101318|426995|\n",
      "|         printers|associate's degree|             1|              8| 99759|382512|\n",
      "|         printers|      some college|             0|              9| 86558|333423|\n",
      "|         printers|associate's degree|             1|              6| 93559|323172|\n",
      "|computer hardware|associate's degree|             0|              0| 53238|102384|\n",
      "|         printers| bachelor's degree|             3|              3| 87084|331474|\n",
      "|         printers|associate's degree|             2|             12|122185|573991|\n",
      "|computer hardware|associate's degree|             1|              3| 68305|193053|\n",
      "|  office supplies|associate's degree|             2|             10|110464|446773|\n",
      "|computer software|      some college|             0|             14|132810|507171|\n",
      "|computer software|       high school|             0|              1| 59267| 98104|\n",
      "|computer software|      some college|             2|              2| 86866|193882|\n",
      "|computer hardware|      some college|             0|              4| 78219|213591|\n",
      "|computer software|associate's degree|             1|              4|103736|304960|\n",
      "+-----------------+------------------+--------------+---------------+------+------+\n",
      "only showing top 20 rows\n",
      "\n"
     ]
    }
   ],
   "source": [
    "df_filtered = df.na.drop('any')\n",
    "df_filtered.show()"
   ]
  },
  {
   "cell_type": "markdown",
   "metadata": {},
   "source": [
    "Fill missing values with avg"
   ]
  },
  {
   "cell_type": "code",
   "execution_count": null,
   "metadata": {},
   "outputs": [
    {
     "name": "stdout",
     "output_type": "stream",
     "text": [
      "+-----------------+------------------+--------------+---------------+------+------+\n",
      "|         division|level of education|training level|work experience|salary| sales|\n",
      "+-----------------+------------------+--------------+---------------+------+------+\n",
      "|      peripherals|      some college|             1|              6| 87067|299066|\n",
      "|         printers|       high school|             3|              7| 98381|457597|\n",
      "|  office supplies|associate's degree|             1|              7|101528|383462|\n",
      "|  office supplies|associate's degree|             0|              9| 98431|374972|\n",
      "|         printers|associate's degree|             0|              6| 82072|239893|\n",
      "|computer hardware|associate's degree|             2|              8|104295|452952|\n",
      "|         printers|      some college|             1|              8|101318|426995|\n",
      "|         printers|associate's degree|             1|              8| 99759|382512|\n",
      "|         printers|      some college|             0|              9| 86558|333423|\n",
      "|         printers|associate's degree|             1|              6| 93559|323172|\n",
      "|computer hardware|associate's degree|             0|              0| 53238|102384|\n",
      "|         printers| bachelor's degree|             3|              3| 87084|331474|\n",
      "|computer hardware|associate's degree|             2|           NULL| 75058|260575|\n",
      "|         printers|associate's degree|             2|             12|122185|573991|\n",
      "|computer hardware|associate's degree|             1|              3| 68305|193053|\n",
      "|  office supplies|associate's degree|             2|             10|110464|446773|\n",
      "|         printers|associate's degree|             1|              8| 83999|279254|\n",
      "|computer software|      some college|             0|             14|132810|507171|\n",
      "|computer software|       high school|             0|              1| 59267| 98104|\n",
      "|computer software|      some college|             2|              2| 86866|193882|\n",
      "+-----------------+------------------+--------------+---------------+------+------+\n",
      "only showing top 20 rows\n",
      "\n",
      "+-----------------+------------------+--------------+---------------+------+------+\n",
      "|         division|level of education|training level|work experience|salary| sales|\n",
      "+-----------------+------------------+--------------+---------------+------+------+\n",
      "|      peripherals|      some college|             1|              6| 87067|299066|\n",
      "|         printers|       high school|             3|              7| 98381|457597|\n",
      "|  office supplies|associate's degree|             1|              7|101528|383462|\n",
      "|  office supplies|associate's degree|             0|              9| 98431|374972|\n",
      "|         printers|associate's degree|             0|              6| 82072|239893|\n",
      "|computer hardware|associate's degree|             2|              8|104295|452952|\n",
      "|         printers|      some college|             1|              8|101318|426995|\n",
      "|         printers|associate's degree|             1|              8| 99759|382512|\n",
      "|         printers|      some college|             0|              9| 86558|333423|\n",
      "|         printers|associate's degree|             1|              6| 93559|323172|\n",
      "|computer hardware|associate's degree|             0|              0| 53238|102384|\n",
      "|         printers| bachelor's degree|             3|              3| 87084|331474|\n",
      "|computer hardware|associate's degree|             2|              6| 75058|260575|\n",
      "|         printers|associate's degree|             2|             12|122185|573991|\n",
      "|computer hardware|associate's degree|             1|              3| 68305|193053|\n",
      "|  office supplies|associate's degree|             2|             10|110464|446773|\n",
      "|         printers|associate's degree|          NULL|              8| 83999|279254|\n",
      "|computer software|      some college|             0|             14|132810|507171|\n",
      "|computer software|       high school|             0|              1| 59267| 98104|\n",
      "|computer software|      some college|             2|              2| 86866|193882|\n",
      "+-----------------+------------------+--------------+---------------+------+------+\n",
      "only showing top 20 rows\n",
      "\n",
      "+-----------------+------------------+--------------+---------------+------+------+\n",
      "|         division|level of education|training level|work experience|salary| sales|\n",
      "+-----------------+------------------+--------------+---------------+------+------+\n",
      "|      peripherals|      some college|             1|              6| 87067|299066|\n",
      "|         printers|       high school|             3|              7| 98381|457597|\n",
      "|  office supplies|associate's degree|             1|              7|101528|383462|\n",
      "|  office supplies|associate's degree|             0|              9| 98431|374972|\n",
      "|         printers|associate's degree|             0|              6| 82072|239893|\n",
      "|computer hardware|associate's degree|             2|              8|104295|452952|\n",
      "|         printers|      some college|             1|              8|101318|426995|\n",
      "|         printers|associate's degree|             1|              8| 99759|382512|\n",
      "|         printers|      some college|             0|              9| 86558|333423|\n",
      "|         printers|associate's degree|             1|              6| 93559|323172|\n",
      "|computer hardware|associate's degree|             0|              0| 53238|102384|\n",
      "|         printers| bachelor's degree|             3|              3| 87084|331474|\n",
      "|computer hardware|associate's degree|             2|              6| 75058|260575|\n",
      "|         printers|associate's degree|             2|             12|122185|573991|\n",
      "|computer hardware|associate's degree|             1|              3| 68305|193053|\n",
      "|  office supplies|associate's degree|             2|             10|110464|446773|\n",
      "|         printers|associate's degree|             1|              8| 83999|279254|\n",
      "|computer software|      some college|             0|             14|132810|507171|\n",
      "|computer software|       high school|             0|              1| 59267| 98104|\n",
      "|computer software|      some college|             2|              2| 86866|193882|\n",
      "+-----------------+------------------+--------------+---------------+------+------+\n",
      "only showing top 20 rows\n",
      "\n"
     ]
    }
   ],
   "source": [
    "# Null values training level\n",
    "mean_training_level = int(df.agg(mean('training level')).collect()[0][0])\n",
    "print(mean_training_level)\n",
    "df.fillna(mean_training_level, 'training level').show()\n",
    "\n",
    "# Null values work experience\n",
    "mean_work_experience = int(df.agg(mean('work experience')).collect()[0][0])\n",
    "print(mean_work_experience)\n",
    "df.fillna(mean_work_experience, 'work experience').show()\n",
    "\n",
    "# All data in on new df\n",
    "df_avg = df.fillna(mean_training_level, 'training level').fillna(mean_work_experience, 'work experience').show()\n"
   ]
  },
  {
   "cell_type": "code",
   "execution_count": null,
   "metadata": {},
   "outputs": [],
   "source": [
    "spark.stop()"
   ]
  }
 ],
 "metadata": {
  "kernelspec": {
   "display_name": "venv",
   "language": "python",
   "name": "python3"
  },
  "language_info": {
   "codemirror_mode": {
    "name": "ipython",
    "version": 3
   },
   "file_extension": ".py",
   "mimetype": "text/x-python",
   "name": "python",
   "nbconvert_exporter": "python",
   "pygments_lexer": "ipython3",
   "version": "3.12.6"
  }
 },
 "nbformat": 4,
 "nbformat_minor": 2
}
