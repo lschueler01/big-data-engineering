{
 "cells": [
  {
   "cell_type": "markdown",
   "metadata": {},
   "source": [
    "# Flight Data Fusion"
   ]
  },
  {
   "cell_type": "code",
   "execution_count": 1,
   "metadata": {},
   "outputs": [],
   "source": [
    "import sys\n",
    "sys.path.append(\"..\")\n",
    "# Spark libs\n",
    "from pyspark.sql.session import SparkSession\n",
    "from pyspark.sql.functions import col, expr\n",
    "from pyspark.sql.types import TimestampType\n",
    "# helpers\n",
    "from helpers.data_prep_and_print import print_df\n",
    "from helpers.path_translation import translate_to_file_string"
   ]
  },
  {
   "cell_type": "markdown",
   "metadata": {},
   "source": [
    "### Input Files"
   ]
  },
  {
   "cell_type": "code",
   "execution_count": 2,
   "metadata": {},
   "outputs": [],
   "source": [
    "input_file_aaa = translate_to_file_string(\"../data/2011-12-01-dataaa.csv\")\n",
    "input_file_airtravelcenter = translate_to_file_string(\"../data/2011-12-01-dataairtravelcenter.csv\")\n",
    "input_file_dfw = translate_to_file_string(\"../data/2011-12-01-datadfw.csv\")"
   ]
  },
  {
   "cell_type": "markdown",
   "metadata": {},
   "source": [
    "### Spark Session Creation"
   ]
  },
  {
   "cell_type": "code",
   "execution_count": 3,
   "metadata": {},
   "outputs": [],
   "source": [
    "spark = (SparkSession\n",
    "       .builder\n",
    "       .appName(\"Flight Data Fusion\")\n",
    "       .getOrCreate())\n",
    "spark.sparkContext.setLogLevel(\"ERROR\")"
   ]
  },
  {
   "cell_type": "markdown",
   "metadata": {},
   "source": [
    "### Open the files in data frames"
   ]
  },
  {
   "cell_type": "code",
   "execution_count": 4,
   "metadata": {},
   "outputs": [],
   "source": [
    "dfaaa = spark.read.option(\"header\", \"true\") \\\n",
    "       .option(\"inferSchema\", \"true\") \\\n",
    "       .option(\"delimiter\", \";\") \\\n",
    "       .csv(input_file_aaa)\n",
    "dfatc = spark.read.option(\"header\", \"true\") \\\n",
    "       .option(\"inferSchema\", \"true\") \\\n",
    "       .option(\"delimiter\", \";\") \\\n",
    "       .csv(input_file_airtravelcenter)\n",
    "dfdfw = spark.read.option(\"header\", \"true\") \\\n",
    "       .option(\"inferSchema\", \"true\") \\\n",
    "       .option(\"delimiter\", \";\") \\\n",
    "       .csv(input_file_dfw) \\\n",
    "       .withColumn(\"depact\", expr(\"depact\").cast(TimestampType())) \\\n",
    "       .withColumn(\"arrivalact\", expr(\"arrivalact\").cast(TimestampType()))\n"
   ]
  },
  {
   "cell_type": "markdown",
   "metadata": {},
   "source": [
    "### Union all Dataframes"
   ]
  },
  {
   "cell_type": "code",
   "execution_count": 6,
   "metadata": {},
   "outputs": [
    {
     "name": "stdout",
     "output_type": "stream",
     "text": [
      "root\n",
      " |-- website: string (nullable = true)\n",
      " |-- flightno: string (nullable = true)\n",
      " |-- depsched: timestamp (nullable = true)\n",
      " |-- depact: timestamp (nullable = true)\n",
      " |-- depgate: string (nullable = true)\n",
      " |-- arrivalsched: timestamp (nullable = true)\n",
      " |-- arrivalact: timestamp (nullable = true)\n",
      " |-- arrivalgat: string (nullable = true)\n",
      "\n",
      "None\n",
      "root\n",
      " |-- website: string (nullable = true)\n",
      " |-- flightno: string (nullable = true)\n",
      " |-- depsched: timestamp (nullable = true)\n",
      " |-- depact: timestamp (nullable = true)\n",
      " |-- depgate: string (nullable = true)\n",
      " |-- arrivalsched: timestamp (nullable = true)\n",
      " |-- arrivalact: timestamp (nullable = true)\n",
      " |-- arrivalgat: string (nullable = true)\n",
      "\n",
      "None\n",
      "root\n",
      " |-- website: string (nullable = true)\n",
      " |-- flightno: string (nullable = true)\n",
      " |-- depsched: timestamp (nullable = true)\n",
      " |-- depact: timestamp (nullable = true)\n",
      " |-- depgate: string (nullable = true)\n",
      " |-- arrivalsched: timestamp (nullable = true)\n",
      " |-- arrivalact: timestamp (nullable = true)\n",
      " |-- arrivalgat: string (nullable = true)\n",
      "\n",
      "None\n",
      "+-------+---------------+-------------------+-------------------+-------+-------------------+-------------------+----------+\n",
      "|website|       flightno|           depsched|             depact|depgate|       arrivalsched|         arrivalact|arrivalgat|\n",
      "+-------+---------------+-------------------+-------------------+-------+-------------------+-------------------+----------+\n",
      "|     aa|AA-1007-TPA-MIA|2011-12-01 13:55:00|2011-12-01 14:07:00|    F78|2011-12-01 15:00:00|2011-12-01 14:57:00|        D5|\n",
      "|     aa|AA-1518-DFW-SDF|2011-12-01 12:10:00|2011-12-01 12:17:00|    C20|2011-12-01 15:10:00|2011-12-01 14:57:00|       A15|\n",
      "|     aa| AA-185-JFK-LAX|2011-12-01 21:00:00|               NULL|     46|2011-12-02 00:23:00|               NULL|       47B|\n",
      "|     aa|AA-3592-MIA-CLE|2011-12-01 15:15:00|2011-12-01 15:25:00|    D60|2011-12-01 18:10:00|2011-12-01 18:20:00|        A3|\n",
      "|     aa| AA-393-DFW-DEN|2011-12-01 06:55:00|2011-12-01 07:06:00|    C37|2011-12-01 07:55:00|2011-12-01 07:55:00|       A49|\n",
      "|     aa|AA-3508-ATL-MIA|2011-12-01 19:40:00|2011-12-01 19:57:00|    T10|2011-12-01 21:40:00|2011-12-01 21:22:00|       D53|\n",
      "|     aa| AA-637-ORD-LAX|2011-12-01 16:40:00|2011-12-01 16:56:00|     K5|2011-12-01 19:10:00|               NULL|        41|\n",
      "|     aa| AA-649-ORD-SNA|2011-12-01 13:30:00|               NULL|    H10|2011-12-01 15:50:00|               NULL|         7|\n",
      "|     aa| AA-463-ORF-DFW|2011-12-01 06:30:00|2011-12-01 06:32:00|    B17|2011-12-01 09:10:00|2011-12-01 08:26:00|        C2|\n",
      "|     aa|AA-3921-MEM-ORD|2011-12-01 17:20:00|2011-12-01 17:27:00|   C12A|2011-12-01 19:30:00|2011-12-01 18:50:00|       G6A|\n",
      "|     aa|AA-1538-DFW-MCO|2011-12-01 20:40:00|2011-12-01 21:25:00|    D25|2011-12-02 23:55:00|               NULL|        16|\n",
      "|     aa|AA-1367-ATL-DFW|2011-12-01 16:26:00|               NULL|    T12|2011-12-01 17:56:00|               NULL|       C19|\n",
      "|     aa|AA-1593-MCO-MIA|2011-12-01 12:05:00|2011-12-01 12:17:00|     16|2011-12-01 13:05:00|2011-12-01 12:58:00|        D2|\n",
      "|     aa| AA-821-JFK-FLL|2011-12-01 15:45:00|2011-12-01 16:23:00|     43|2011-12-01 19:05:00|2011-12-01 18:56:00|        E4|\n",
      "|     aa|AA-3536-CLT-MIA|2011-12-01 16:40:00|2011-12-01 16:57:00|     A9|2011-12-01 18:50:00|2011-12-01 18:34:00|       D60|\n",
      "|     aa|AA-1294-IAH-MIA|2011-12-01 17:35:00|2011-12-01 17:48:00|    A27|2011-12-01 21:00:00|2011-12-01 20:58:00|        D4|\n",
      "|     aa|AA-2435-ORD-PHX|2011-12-01 12:40:00|2011-12-01 13:29:00|     H6|2011-12-01 15:25:00|2011-12-01 16:09:00|         6|\n",
      "|     aa|AA-3063-SLC-LAX|2011-12-01 20:20:00|2011-12-01 20:39:00|     A3|2011-12-01 21:20:00|               NULL|       44I|\n",
      "|     aa|AA-2238-DFW-CLT|2011-12-01 17:10:00|2011-12-01 17:33:00|     C8|2011-12-01 20:25:00|2011-12-01 20:37:00|        A9|\n",
      "|     aa| AA-222-LAX-BOS|2011-12-01 07:10:00|2011-12-01 07:31:00|    47A|2011-12-01 15:30:00|2011-12-01 15:14:00|       B36|\n",
      "+-------+---------------+-------------------+-------------------+-------+-------------------+-------------------+----------+\n",
      "only showing top 20 rows\n",
      "\n"
     ]
    }
   ],
   "source": [
    "# TODO combine the dataframes\n",
    "\n",
    "## Data Structure for each dataframe\n",
    "print(dfaaa.printSchema())\n",
    "print(dfatc.printSchema())\n",
    "print(dfdfw.printSchema())\n",
    "### Same structure everywhere -> Join dataframes -> append\n",
    "\n",
    "## append data frames\n",
    "\n",
    "df_all = dfaaa.union(dfatc).union(dfdfw)\n",
    "df_all.show()"
   ]
  },
  {
   "cell_type": "markdown",
   "metadata": {},
   "source": [
    "### Remove Duplicates"
   ]
  },
  {
   "cell_type": "code",
   "execution_count": 26,
   "metadata": {},
   "outputs": [
    {
     "name": "stdout",
     "output_type": "stream",
     "text": [
      "+-------+---------------+-------------------+-------------------+-------+-------------------+-------------------+----------+\n",
      "|website|       flightno|           depsched|             depact|depgate|       arrivalsched|         arrivalact|arrivalgat|\n",
      "+-------+---------------+-------------------+-------------------+-------+-------------------+-------------------+----------+\n",
      "|     aa|  AA-10-LAX-JFK|2011-12-01 21:20:00|               NULL|    47B|2011-12-02 05:30:00|               NULL|        42|\n",
      "|     aa|AA-1007-MIA-PHX|2011-12-01 16:55:00|2011-12-01 17:08:00|     D5|2011-12-01 20:05:00|2011-12-01 19:55:00|         4|\n",
      "|     aa|AA-1007-TPA-MIA|2011-12-01 13:55:00|2011-12-01 14:07:00|    F78|2011-12-01 15:00:00|2011-12-01 14:57:00|        D5|\n",
      "|     aa|AA-1011-MIA-GCM|2011-12-01 19:15:00|2011-12-01 19:29:00|    D17|2011-12-01 20:40:00|2011-12-01 20:36:00|      NULL|\n",
      "|     aa|AA-1039-ATL-MIA|2011-12-01 13:25:00|2011-12-01 13:46:00|    T11|2011-12-01 15:20:00|2011-12-01 15:14:00|       D48|\n",
      "|     aa|AA-1044-DFW-CMH|2011-12-01 10:10:00|2011-12-01 10:16:00|    C33|2011-12-01 13:25:00|2011-12-01 13:17:00|       B34|\n",
      "|     aa|AA-1047-MCO-MIA|2011-12-01 08:45:00|2011-12-01 08:48:00|     15|2011-12-01 09:50:00|2011-12-01 09:31:00|       D48|\n",
      "|     aa|AA-1047-MIA-AUA|2011-12-01 11:10:00|2011-12-01 11:35:00|     D6|2011-12-01 14:50:00|2011-12-01 14:48:00|         8|\n",
      "|     aa|AA-1048-MIA-IAD|2011-12-01 20:30:00|               NULL|     E9|2011-12-01 22:55:00|               NULL|      NULL|\n",
      "|     aa|AA-1063-BWI-DFW|2011-12-01 07:05:00|2011-12-01 07:26:00|     C8|2011-12-01 09:45:00|2011-12-01 09:22:00|       C27|\n",
      "|     aa|AA-1063-DFW-SNA|2011-12-01 10:40:00|2011-12-01 10:54:00|    C27|2011-12-01 11:55:00|               NULL|         7|\n",
      "|     aa|AA-1066-DFW-DCA|2011-12-01 10:30:00|2011-12-01 10:43:00|    D38|2011-12-01 14:10:00|2011-12-01 14:15:00|        28|\n",
      "|     aa|AA-1066-MEX-DFW|2011-12-01 06:05:00|2011-12-01 06:23:00|     20|2011-12-01 08:50:00|2011-12-01 08:47:00|       D38|\n",
      "|     aa|AA-1077-DFW-SFO|2011-12-01 07:45:00|2011-12-01 08:06:00|    C35|2011-12-01 09:30:00|2011-12-01 09:21:00|        55|\n",
      "|     aa|AA-1081-BOS-ORD|2011-12-01 19:35:00|2011-12-01 19:43:00|    B35|2011-12-01 21:20:00|2011-12-01 21:09:00|        H8|\n",
      "|     aa|AA-1084-DFW-FLL|2011-12-01 19:30:00|2011-12-01 20:12:00|    D31|2011-12-01 23:05:00|2011-12-01 23:27:00|        E2|\n",
      "|     aa|AA-1092-LAX-ORD|2011-12-01 23:20:00|               NULL|    46A|2011-12-02 05:15:00|               NULL|       H15|\n",
      "|     aa|AA-1106-DFW-OKC|2011-12-01 21:25:00|               NULL|    C12|2011-12-01 22:15:00|               NULL|         4|\n",
      "|     aa|AA-1125-DFW-PVR|2011-12-01 12:15:00|2011-12-01 17:30:00|    D34|2011-12-01 14:55:00|2011-12-01 19:56:00|      NULL|\n",
      "|     aa|AA-1125-MSP-DFW|2011-12-01 08:30:00|2011-12-01 09:06:00|    E16|2011-12-01 11:15:00|2011-12-01 11:27:00|       D34|\n",
      "+-------+---------------+-------------------+-------------------+-------+-------------------+-------------------+----------+\n",
      "only showing top 20 rows\n",
      "\n"
     ]
    }
   ],
   "source": [
    "# TODO Remove duplicates\n",
    "\n",
    "# droped_df = df_all.dropDuplicates(['flightno', 'depsched'])\n",
    "droped_df = df_all.dropDuplicates(['flightno'])\n",
    "droped_df.show()"
   ]
  },
  {
   "cell_type": "markdown",
   "metadata": {},
   "source": [
    "### Aggregation of the instances"
   ]
  },
  {
   "cell_type": "code",
   "execution_count": null,
   "metadata": {},
   "outputs": [
    {
     "name": "stdout",
     "output_type": "stream",
     "text": [
      "{'website': 0, 'flightno': 0, 'depsched': 0, 'depact': 47, 'depgate': 3, 'arrivalsched': 0, 'arrivalact': 87, 'arrivalgat': 14}\n",
      "{'website': 0, 'flightno': 0, 'depsched': 736, 'depact': 473, 'depgate': 1209, 'arrivalsched': 736, 'arrivalact': 473, 'arrivalgat': 1209}\n",
      "{'website': 0, 'flightno': 0, 'depsched': 24, 'depact': 72, 'depgate': 24, 'arrivalsched': 48, 'arrivalact': 72, 'arrivalgat': 48}\n"
     ]
    }
   ],
   "source": [
    "# TODO make useful data fusions\n",
    "\n",
    "## figure out which data set is most complete / has the least null-data in each column\n",
    "Dict_Null_aaa = {col:dfaaa.filter(dfaaa[col].isNull()).count() for col in dfaaa.columns}\n",
    "print(Dict_Null_aaa)\n",
    "\n",
    "Dict_Null_atc = {col:dfatc.filter(dfatc[col].isNull()).count() for col in dfatc.columns}\n",
    "print(Dict_Null_atc)\n",
    "\n",
    "Dict_Null_dfw = {col:dfdfw.filter(dfdfw[col].isNull()).count() for col in dfdfw.columns}\n",
    "print(Dict_Null_dfw)\n"
   ]
  },
  {
   "cell_type": "code",
   "execution_count": 25,
   "metadata": {},
   "outputs": [
    {
     "name": "stdout",
     "output_type": "stream",
     "text": [
      "+---------------+-----+\n",
      "|       flightno|count|\n",
      "+---------------+-----+\n",
      "|AA-4180-ORD-CLT|    2|\n",
      "|AA-2495-BDL-DFW|    3|\n",
      "|AA-2493-DFW-LAX|    3|\n",
      "|AA-4388-ORD-DTW|    2|\n",
      "|AA-4064-ORD-CLE|    2|\n",
      "|AA-2049-DFW-DEN|    2|\n",
      "|AA-4010-CLT-ORD|    2|\n",
      "|AA-1775-ORD-LAS|    2|\n",
      "|AA-1201-ORD-STL|    2|\n",
      "| AA-692-MIA-EWR|    2|\n",
      "|AA-3804-PHL-ORD|    2|\n",
      "|AA-1687-MIA-SJU|    2|\n",
      "|AA-1044-DFW-CMH|    3|\n",
      "|AA-3823-LAX-DEN|    2|\n",
      "|  AA-75-IAD-LAX|    2|\n",
      "|  AA-18-SFO-JFK|    2|\n",
      "| AA-202-LAX-MIA|    2|\n",
      "|AA-3739-ORD-EWR|    2|\n",
      "|AA-3533-MIA-CLT|    2|\n",
      "|AA-4310-CLT-ORD|    2|\n",
      "+---------------+-----+\n",
      "only showing top 20 rows\n",
      "\n"
     ]
    }
   ],
   "source": [
    "## fill nan based on flightno and depsched\n",
    "\n",
    "df_all.groupby(['flightno']).count().show()"
   ]
  },
  {
   "cell_type": "code",
   "execution_count": null,
   "metadata": {},
   "outputs": [],
   "source": [
    "spark.stop()"
   ]
  }
 ],
 "metadata": {
  "kernelspec": {
   "display_name": "venv",
   "language": "python",
   "name": "python3"
  },
  "language_info": {
   "codemirror_mode": {
    "name": "ipython",
    "version": 3
   },
   "file_extension": ".py",
   "mimetype": "text/x-python",
   "name": "python",
   "nbconvert_exporter": "python",
   "pygments_lexer": "ipython3",
   "version": "3.12.6"
  }
 },
 "nbformat": 4,
 "nbformat_minor": 2
}
