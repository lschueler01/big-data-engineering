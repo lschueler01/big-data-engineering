{
 "cells": [
  {
   "cell_type": "markdown",
   "metadata": {},
   "source": [
    "# Sales Data Binning"
   ]
  },
  {
   "cell_type": "code",
   "execution_count": 1,
   "metadata": {},
   "outputs": [],
   "source": [
    "import sys\n",
    "sys.path.append(\"..\")\n",
    "# Spark libs\n",
    "from pyspark.sql.session import SparkSession\n",
    "from pyspark.sql.functions import col, lower, max, min\n",
    "from pyspark.ml.feature import Bucketizer, QuantileDiscretizer\n",
    "# helpers\n",
    "from helpers.data_prep_and_print import print_df\n",
    "from helpers.path_translation import translate_to_file_string"
   ]
  },
  {
   "cell_type": "markdown",
   "metadata": {},
   "source": [
    "### Select the Imput File"
   ]
  },
  {
   "cell_type": "code",
   "execution_count": 2,
   "metadata": {},
   "outputs": [],
   "source": [
    "inputFile = translate_to_file_string(\"../data/sales_for_data_cleaning.csv\")"
   ]
  },
  {
   "cell_type": "markdown",
   "metadata": {},
   "source": [
    "### Spark Session Creation"
   ]
  },
  {
   "cell_type": "code",
   "execution_count": 3,
   "metadata": {},
   "outputs": [],
   "source": [
    "spark = (SparkSession\n",
    "       .builder\n",
    "       .appName(\"Sales Data Binning\")\n",
    "       .getOrCreate())\n",
    "spark.sparkContext.setLogLevel(\"ERROR\")"
   ]
  },
  {
   "cell_type": "markdown",
   "metadata": {},
   "source": [
    "### Create Dataframe from csv File"
   ]
  },
  {
   "cell_type": "code",
   "execution_count": 4,
   "metadata": {},
   "outputs": [
    {
     "name": "stdout",
     "output_type": "stream",
     "text": [
      "root\n",
      " |-- division: string (nullable = true)\n",
      " |-- level of education: string (nullable = true)\n",
      " |-- training level: integer (nullable = true)\n",
      " |-- work experience: integer (nullable = true)\n",
      " |-- salary: integer (nullable = true)\n",
      " |-- sales: integer (nullable = true)\n",
      "\n",
      "None\n"
     ]
    }
   ],
   "source": [
    "df = spark.read.option(\"header\", \"true\") \\\n",
    "       .option(\"inferSchema\", \"true\") \\\n",
    "       .option(\"delimiter\", \";\") \\\n",
    "       .csv(inputFile)\n",
    "print(df.printSchema())"
   ]
  },
  {
   "cell_type": "markdown",
   "metadata": {},
   "source": [
    "### Binning of Salary"
   ]
  },
  {
   "cell_type": "code",
   "execution_count": null,
   "metadata": {},
   "outputs": [
    {
     "name": "stdout",
     "output_type": "stream",
     "text": [
      "+----------+----------+----------+\n",
      "|avg_salary|min_salary|max_salary|\n",
      "+----------+----------+----------+\n",
      "| 90031.645|     34883|    146407|\n",
      "+----------+----------+----------+\n",
      "\n",
      "+-----------------+------------------+--------------+---------------+------+------+----+\n",
      "|         division|level of education|training level|work experience|salary| sales|bins|\n",
      "+-----------------+------------------+--------------+---------------+------+------+----+\n",
      "|      peripherals|      some college|             1|              6| 87067|299066| 1.0|\n",
      "|         printers|       high school|             3|              7| 98381|457597| 1.0|\n",
      "|  office supplies|associate's degree|             1|              7|101528|383462| 2.0|\n",
      "|  office supplies|associate's degree|             0|              9| 98431|374972| 1.0|\n",
      "|         printers|associate's degree|             0|              6| 82072|239893| 1.0|\n",
      "|computer hardware|associate's degree|             2|              8|104295|452952| 2.0|\n",
      "|         printers|      some college|             1|              8|101318|426995| 2.0|\n",
      "|         printers|associate's degree|             1|              8| 99759|382512| 1.0|\n",
      "|         printers|      some college|             0|              9| 86558|333423| 1.0|\n",
      "|         printers|associate's degree|             1|              6| 93559|323172| 1.0|\n",
      "|computer hardware|associate's degree|             0|              0| 53238|102384| 1.0|\n",
      "|         printers| bachelor's degree|             3|              3| 87084|331474| 1.0|\n",
      "|computer hardware|associate's degree|             2|           NULL| 75058|260575| 1.0|\n",
      "|         printers|associate's degree|             2|             12|122185|573991| 2.0|\n",
      "|computer hardware|associate's degree|             1|              3| 68305|193053| 1.0|\n",
      "|  office supplies|associate's degree|             2|             10|110464|446773| 2.0|\n",
      "|         printers|associate's degree|          NULL|              8| 83999|279254| 1.0|\n",
      "|computer software|      some college|             0|             14|132810|507171| 2.0|\n",
      "|computer software|       high school|             0|              1| 59267| 98104| 1.0|\n",
      "|computer software|      some college|             2|              2| 86866|193882| 1.0|\n",
      "+-----------------+------------------+--------------+---------------+------+------+----+\n",
      "only showing top 20 rows\n",
      "\n"
     ]
    }
   ],
   "source": [
    "# bins with bucketizer\n",
    "from pyspark.sql import functions as F\n",
    "\n",
    "(df\n",
    "    .agg(\n",
    "        F.avg(F.col('salary')).alias('avg_salary'),\n",
    "        F.min(F.col('salary')).alias('min_salary'),\n",
    "        F.max(F.col('salary')).alias('max_salary'),\n",
    "    )\n",
    "    .show()\n",
    ")\n",
    "\n",
    "# bins: 0 - 50.000 ; 50.000 - 100.000 ; 100:000 - 150:000\n",
    "\n",
    "bucketizer = Bucketizer(splits=[0,50000,100000,150000], inputCol='salary', outputCol='bins')\n",
    "\n",
    "df_with_bins = bucketizer.setHandleInvalid('skip').transform(df)\n",
    "df_with_bins.show()"
   ]
  },
  {
   "cell_type": "code",
   "execution_count": null,
   "metadata": {},
   "outputs": [
    {
     "name": "stdout",
     "output_type": "stream",
     "text": [
      "+-----------------+------------------+--------------+---------------+------+------+----+\n",
      "|         division|level of education|training level|work experience|salary| sales|bins|\n",
      "+-----------------+------------------+--------------+---------------+------+------+----+\n",
      "|      peripherals|      some college|             1|              6| 87067|299066| 1.0|\n",
      "|         printers|       high school|             3|              7| 98381|457597| 2.0|\n",
      "|  office supplies|associate's degree|             1|              7|101528|383462| 2.0|\n",
      "|  office supplies|associate's degree|             0|              9| 98431|374972| 2.0|\n",
      "|         printers|associate's degree|             0|              6| 82072|239893| 1.0|\n",
      "|computer hardware|associate's degree|             2|              8|104295|452952| 2.0|\n",
      "|         printers|      some college|             1|              8|101318|426995| 2.0|\n",
      "|         printers|associate's degree|             1|              8| 99759|382512| 2.0|\n",
      "|         printers|      some college|             0|              9| 86558|333423| 1.0|\n",
      "|         printers|associate's degree|             1|              6| 93559|323172| 1.0|\n",
      "|computer hardware|associate's degree|             0|              0| 53238|102384| 0.0|\n",
      "|         printers| bachelor's degree|             3|              3| 87084|331474| 1.0|\n",
      "|computer hardware|associate's degree|             2|           NULL| 75058|260575| 0.0|\n",
      "|         printers|associate's degree|             2|             12|122185|573991| 2.0|\n",
      "|computer hardware|associate's degree|             1|              3| 68305|193053| 0.0|\n",
      "|  office supplies|associate's degree|             2|             10|110464|446773| 2.0|\n",
      "|         printers|associate's degree|          NULL|              8| 83999|279254| 1.0|\n",
      "|computer software|      some college|             0|             14|132810|507171| 2.0|\n",
      "|computer software|       high school|             0|              1| 59267| 98104| 0.0|\n",
      "|computer software|      some college|             2|              2| 86866|193882| 1.0|\n",
      "+-----------------+------------------+--------------+---------------+------+------+----+\n",
      "only showing top 20 rows\n",
      "\n"
     ]
    }
   ],
   "source": [
    "# bins with quantile discretizer\n",
    "\n",
    "qd = QuantileDiscretizer(numBuckets=3,  inputCol='salary', outputCol='bins')\n",
    "df_with_bins2 = qd.fit(df).transform(df)\n",
    "df_with_bins2.show()"
   ]
  },
  {
   "cell_type": "code",
   "execution_count": null,
   "metadata": {},
   "outputs": [],
   "source": [
    "spark.stop()"
   ]
  }
 ],
 "metadata": {
  "kernelspec": {
   "display_name": "venv",
   "language": "python",
   "name": "python3"
  },
  "language_info": {
   "codemirror_mode": {
    "name": "ipython",
    "version": 3
   },
   "file_extension": ".py",
   "mimetype": "text/x-python",
   "name": "python",
   "nbconvert_exporter": "python",
   "pygments_lexer": "ipython3",
   "version": "3.12.6"
  }
 },
 "nbformat": 4,
 "nbformat_minor": 4
}
