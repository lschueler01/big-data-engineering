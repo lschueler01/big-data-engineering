{
 "cells": [
  {
   "cell_type": "markdown",
   "metadata": {},
   "source": [
    "# Build Features on the Sales Dataset in Spark"
   ]
  },
  {
   "cell_type": "code",
   "execution_count": 1,
   "metadata": {},
   "outputs": [],
   "source": [
    "import sys\n",
    "sys.path.append(\"..\")\n",
    "from pyspark.sql import SparkSession, Window\n",
    "from pyspark.sql.functions import col, row_number   \n",
    "from pyspark.ml.feature import StringIndexer, VectorAssembler"
   ]
  },
  {
   "cell_type": "markdown",
   "metadata": {},
   "source": [
    "## Select the churn file "
   ]
  },
  {
   "cell_type": "code",
   "execution_count": 2,
   "metadata": {},
   "outputs": [],
   "source": [
    "inputFile = \"hdfs:///data/sales.csv\""
   ]
  },
  {
   "cell_type": "markdown",
   "metadata": {},
   "source": [
    "## Create the Spark Session "
   ]
  },
  {
   "cell_type": "code",
   "execution_count": 3,
   "metadata": {},
   "outputs": [],
   "source": [
    "#create a SparkSession\n",
    "spark = SparkSession \\\n",
    "       .builder \\\n",
    "       .master(\"yarn\") \\\n",
    "       .appName(\"SalesFeatureEngineering\") \\\n",
    "       .getOrCreate()\n",
    "# create a DataFrame using an inferred Schema \n",
    "df = spark.read.option(\"header\", \"true\") \\\n",
    "       .option(\"inferSchema\", \"true\") \\\n",
    "       .option(\"delimiter\", \",\") \\\n",
    "       .csv(inputFile)"
   ]
  },
  {
   "cell_type": "markdown",
   "metadata": {},
   "source": [
    "## Data Preparation\n",
    "### Build new features from existing ones"
   ]
  },
  {
   "cell_type": "code",
   "execution_count": 4,
   "metadata": {},
   "outputs": [
    {
     "name": "stdout",
     "output_type": "stream",
     "text": [
      "root\n",
      " |-- division: string (nullable = true)\n",
      " |-- level of education: string (nullable = true)\n",
      " |-- training level: integer (nullable = true)\n",
      " |-- work experience: integer (nullable = true)\n",
      " |-- salary: integer (nullable = true)\n",
      " |-- sales: integer (nullable = true)\n",
      "\n",
      "+-----------------+------------------+--------------+---------------+------+------+---------+\n",
      "|         division|level of education|training level|work experience|salary| sales|salesrank|\n",
      "+-----------------+------------------+--------------+---------------+------+------+---------+\n",
      "|         printers| bachelor's degree|             2|             14|136385|663851|        1|\n",
      "|         printers|      some college|             3|             13|130663|655722|        2|\n",
      "|  office supplies| bachelor's degree|             3|             13|143317|637779|        3|\n",
      "|  office supplies|      some college|             3|             12|130435|632053|        4|\n",
      "|      peripherals|      some college|             2|             12|125518|627682|        5|\n",
      "|         printers|       high school|             3|             11|113454|614540|        6|\n",
      "|  office supplies|       high school|             3|             12|115452|614524|        7|\n",
      "|computer hardware|      some college|             3|             11|126367|605214|        8|\n",
      "|  office supplies|      some college|             3|             10|118064|599514|        9|\n",
      "|  office supplies|      some college|             3|             12|122180|596691|       10|\n",
      "|  office supplies| bachelor's degree|             3|             12|127197|594689|       11|\n",
      "|  office supplies|associate's degree|             3|             10|117901|593555|       12|\n",
      "|  office supplies|associate's degree|             2|             11|122539|586539|       13|\n",
      "|computer software|      some college|             3|              9|134792|581055|       14|\n",
      "|  office supplies|associate's degree|             2|             12|128071|579509|       15|\n",
      "|         printers|      some college|             3|             10|111732|577323|       16|\n",
      "|computer hardware|      some college|             1|             14|127584|571049|       17|\n",
      "|  office supplies|       high school|             2|             11|109324|570548|       18|\n",
      "|  office supplies|associate's degree|             3|             11|116991|569914|       19|\n",
      "|computer hardware|       high school|             1|             14|119876|568760|       20|\n",
      "+-----------------+------------------+--------------+---------------+------+------+---------+\n",
      "only showing top 20 rows\n",
      "\n"
     ]
    }
   ],
   "source": [
    "df.printSchema()\n",
    "\n",
    "df_window = Window.orderBy(col(\"sales\").desc())\n",
    "result_df = df.withColumn(\"salesrank\", row_number().over(df_window))\n",
    "result_df.show()\n",
    "division_indexer = StringIndexer().setInputCol(\"division\").setOutputCol(\"division_num\").fit(result_df)\n",
    "education_indexer = StringIndexer().setInputCol(\"level of education\").setOutputCol(\"education_num\").fit(result_df)\n"
   ]
  },
  {
   "cell_type": "markdown",
   "metadata": {},
   "source": [
    " ### Build the feature vector"
   ]
  },
  {
   "cell_type": "code",
   "execution_count": 5,
   "metadata": {},
   "outputs": [
    {
     "name": "stdout",
     "output_type": "stream",
     "text": [
      "['training level', 'work experience', 'salary', 'salesrank']\n"
     ]
    }
   ],
   "source": [
    "featureCols = result_df.columns.copy()\n",
    "featureCols.remove(\"division\")\n",
    "featureCols.remove(\"level of education\")\n",
    "featureCols.remove(\"sales\")\n",
    "print(featureCols)"
   ]
  },
  {
   "cell_type": "markdown",
   "metadata": {},
   "source": [
    "### Build the feature Vector Assembler"
   ]
  },
  {
   "cell_type": "code",
   "execution_count": 6,
   "metadata": {},
   "outputs": [],
   "source": [
    "assembler =  VectorAssembler(outputCol=\"features\", inputCols=list(featureCols))"
   ]
  },
  {
   "cell_type": "markdown",
   "metadata": {},
   "source": [
    "## Do the Data Preparation"
   ]
  },
  {
   "cell_type": "code",
   "execution_count": 7,
   "metadata": {},
   "outputs": [
    {
     "name": "stdout",
     "output_type": "stream",
     "text": [
      "+-----------------+------------------+--------------+---------------+------+------+---------+------------+-------------+--------------------+\n",
      "|         division|level of education|training level|work experience|salary| sales|salesrank|division_num|education_num|            features|\n",
      "+-----------------+------------------+--------------+---------------+------+------+---------+------------+-------------+--------------------+\n",
      "|         printers| bachelor's degree|             2|             14|136385|663851|        1|         0.0|          3.0|[2.0,14.0,136385....|\n",
      "|         printers|      some college|             3|             13|130663|655722|        2|         0.0|          0.0|[3.0,13.0,130663....|\n",
      "|  office supplies| bachelor's degree|             3|             13|143317|637779|        3|         1.0|          3.0|[3.0,13.0,143317....|\n",
      "|  office supplies|      some college|             3|             12|130435|632053|        4|         1.0|          0.0|[3.0,12.0,130435....|\n",
      "|      peripherals|      some college|             2|             12|125518|627682|        5|         2.0|          0.0|[2.0,12.0,125518....|\n",
      "|         printers|       high school|             3|             11|113454|614540|        6|         0.0|          2.0|[3.0,11.0,113454....|\n",
      "|  office supplies|       high school|             3|             12|115452|614524|        7|         1.0|          2.0|[3.0,12.0,115452....|\n",
      "|computer hardware|      some college|             3|             11|126367|605214|        8|         3.0|          0.0|[3.0,11.0,126367....|\n",
      "|  office supplies|      some college|             3|             10|118064|599514|        9|         1.0|          0.0|[3.0,10.0,118064....|\n",
      "|  office supplies|      some college|             3|             12|122180|596691|       10|         1.0|          0.0|[3.0,12.0,122180....|\n",
      "|  office supplies| bachelor's degree|             3|             12|127197|594689|       11|         1.0|          3.0|[3.0,12.0,127197....|\n",
      "|  office supplies|associate's degree|             3|             10|117901|593555|       12|         1.0|          1.0|[3.0,10.0,117901....|\n",
      "|  office supplies|associate's degree|             2|             11|122539|586539|       13|         1.0|          1.0|[2.0,11.0,122539....|\n",
      "|computer software|      some college|             3|              9|134792|581055|       14|         4.0|          0.0|[3.0,9.0,134792.0...|\n",
      "|  office supplies|associate's degree|             2|             12|128071|579509|       15|         1.0|          1.0|[2.0,12.0,128071....|\n",
      "|         printers|      some college|             3|             10|111732|577323|       16|         0.0|          0.0|[3.0,10.0,111732....|\n",
      "|computer hardware|      some college|             1|             14|127584|571049|       17|         3.0|          0.0|[1.0,14.0,127584....|\n",
      "|  office supplies|       high school|             2|             11|109324|570548|       18|         1.0|          2.0|[2.0,11.0,109324....|\n",
      "|  office supplies|associate's degree|             3|             11|116991|569914|       19|         1.0|          1.0|[3.0,11.0,116991....|\n",
      "|computer hardware|       high school|             1|             14|119876|568760|       20|         3.0|          2.0|[1.0,14.0,119876....|\n",
      "+-----------------+------------------+--------------+---------------+------+------+---------+------------+-------------+--------------------+\n",
      "only showing top 20 rows\n",
      "\n"
     ]
    }
   ],
   "source": [
    "\n",
    "indexed_data = education_indexer.transform(division_indexer.transform(result_df))\n",
    "labeledPointData = assembler.transform(indexed_data)\n",
    "labeledPointData.show()\n"
   ]
  },
  {
   "cell_type": "code",
   "execution_count": 8,
   "metadata": {},
   "outputs": [],
   "source": [
    "spark.stop()"
   ]
  }
 ],
 "metadata": {
  "kernelspec": {
   "display_name": "Python 3 (ipykernel)",
   "language": "python",
   "name": "python3"
  }
 },
 "nbformat": 4,
 "nbformat_minor": 4
}
