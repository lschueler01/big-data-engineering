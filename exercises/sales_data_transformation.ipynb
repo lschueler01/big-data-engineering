{
 "cells": [
  {
   "cell_type": "markdown",
   "metadata": {},
   "source": [
    "# Sales Data Transformation"
   ]
  },
  {
   "cell_type": "code",
   "execution_count": 1,
   "metadata": {},
   "outputs": [],
   "source": [
    "import sys\n",
    "sys.path.append(\"..\")\n",
    "# Spark libs\n",
    "from pyspark.sql.session import SparkSession\n",
    "from pyspark.ml.feature import OneHotEncoder, StringIndexer, QuantileDiscretizer, VectorAssembler , Normalizer, StandardScaler\n",
    "# helpers\n",
    "from helpers.data_prep_and_print import print_df\n",
    "from helpers.path_translation import translate_to_file_string"
   ]
  },
  {
   "cell_type": "markdown",
   "metadata": {},
   "source": [
    "### Select the Imput File"
   ]
  },
  {
   "cell_type": "code",
   "execution_count": 2,
   "metadata": {},
   "outputs": [],
   "source": [
    "inputFile = translate_to_file_string(\"../data/sales.csv\")"
   ]
  },
  {
   "cell_type": "markdown",
   "metadata": {},
   "source": [
    "### Spark Session Creation"
   ]
  },
  {
   "cell_type": "code",
   "execution_count": 3,
   "metadata": {},
   "outputs": [],
   "source": [
    "spark = (SparkSession\n",
    "       .builder\n",
    "       .appName(\"Sales Data Cleaning\")\n",
    "       .getOrCreate())\n",
    "spark.sparkContext.setLogLevel(\"ERROR\")"
   ]
  },
  {
   "cell_type": "markdown",
   "metadata": {},
   "source": [
    "### Create Dataframe from csv File"
   ]
  },
  {
   "cell_type": "code",
   "execution_count": 4,
   "metadata": {},
   "outputs": [
    {
     "name": "stdout",
     "output_type": "stream",
     "text": [
      "root\n",
      " |-- division: string (nullable = true)\n",
      " |-- level of education: string (nullable = true)\n",
      " |-- training level: integer (nullable = true)\n",
      " |-- work experience: integer (nullable = true)\n",
      " |-- salary: integer (nullable = true)\n",
      " |-- sales: integer (nullable = true)\n",
      "\n",
      "None\n"
     ]
    }
   ],
   "source": [
    "df = spark.read.option(\"header\", \"true\") \\\n",
    "       .option(\"inferSchema\", \"true\") \\\n",
    "       .option(\"delimiter\", \",\") \\\n",
    "       .csv(inputFile)\n",
    "print(df.printSchema())"
   ]
  },
  {
   "cell_type": "markdown",
   "metadata": {},
   "source": [
    "### Encoding of Quantitative Attributes"
   ]
  },
  {
   "cell_type": "code",
   "execution_count": null,
   "metadata": {},
   "outputs": [
    {
     "name": "stdout",
     "output_type": "stream",
     "text": [
      "+-----------------+------------------+--------------+---------------+------+------+------------+\n",
      "|         division|level of education|training level|work experience|salary| sales|division_num|\n",
      "+-----------------+------------------+--------------+---------------+------+------+------------+\n",
      "|computer software|      some college|             1|              5| 92766|283647|         4.0|\n",
      "|         printers|       high school|             3|              7|101828|490163|         0.0|\n",
      "|         printers|associate's degree|             0|             10|105433|396790|         0.0|\n",
      "|         printers|      some college|             2|              6| 86490|404898|         0.0|\n",
      "|computer hardware|       high school|             1|              7| 90531|385136|         3.0|\n",
      "|         printers|      some college|             0|             12|110420|443568|         0.0|\n",
      "|computer hardware| bachelor's degree|             2|              6|105311|384543|         3.0|\n",
      "|      peripherals|       high school|             2|              3| 72999|308055|         2.0|\n",
      "|      peripherals|      some college|             0|              8| 94264|352745|         2.0|\n",
      "|      peripherals|      some college|             0|             13|119663|507602|         2.0|\n",
      "|      peripherals|associate's degree|             2|              8|102486|427391|         2.0|\n",
      "|      peripherals|associate's degree|             2|              5| 93156|361313|         2.0|\n",
      "|  office supplies|associate's degree|             0|              0| 51866| 87469|         1.0|\n",
      "|computer software|associate's degree|             1|              9|115225|402941|         4.0|\n",
      "|      peripherals|      some college|             3|              8|106501|479323|         2.0|\n",
      "|         printers|associate's degree|             2|              6| 94553|373389|         0.0|\n",
      "|      peripherals|associate's degree|             2|              8|107173|462417|         2.0|\n",
      "|         printers|associate's degree|             3|              6| 98773|465677|         0.0|\n",
      "|      peripherals|       high school|             1|              7| 80287|339800|         2.0|\n",
      "|      peripherals|associate's degree|             2|              8|104696|485425|         2.0|\n",
      "+-----------------+------------------+--------------+---------------+------+------+------------+\n",
      "only showing top 20 rows\n",
      "\n",
      "+-----------------+------------------+--------------+---------------+------+------+------------+-------------+----------------+\n",
      "|         division|level of education|training level|work experience|salary| sales|division_num|education_num|education_onehot|\n",
      "+-----------------+------------------+--------------+---------------+------+------+------------+-------------+----------------+\n",
      "|computer software|      some college|             1|              5| 92766|283647|         4.0|          0.0|   (4,[0],[1.0])|\n",
      "|         printers|       high school|             3|              7|101828|490163|         0.0|          2.0|   (4,[2],[1.0])|\n",
      "|         printers|associate's degree|             0|             10|105433|396790|         0.0|          1.0|   (4,[1],[1.0])|\n",
      "|         printers|      some college|             2|              6| 86490|404898|         0.0|          0.0|   (4,[0],[1.0])|\n",
      "|computer hardware|       high school|             1|              7| 90531|385136|         3.0|          2.0|   (4,[2],[1.0])|\n",
      "|         printers|      some college|             0|             12|110420|443568|         0.0|          0.0|   (4,[0],[1.0])|\n",
      "|computer hardware| bachelor's degree|             2|              6|105311|384543|         3.0|          3.0|   (4,[3],[1.0])|\n",
      "|      peripherals|       high school|             2|              3| 72999|308055|         2.0|          2.0|   (4,[2],[1.0])|\n",
      "|      peripherals|      some college|             0|              8| 94264|352745|         2.0|          0.0|   (4,[0],[1.0])|\n",
      "|      peripherals|      some college|             0|             13|119663|507602|         2.0|          0.0|   (4,[0],[1.0])|\n",
      "|      peripherals|associate's degree|             2|              8|102486|427391|         2.0|          1.0|   (4,[1],[1.0])|\n",
      "|      peripherals|associate's degree|             2|              5| 93156|361313|         2.0|          1.0|   (4,[1],[1.0])|\n",
      "|  office supplies|associate's degree|             0|              0| 51866| 87469|         1.0|          1.0|   (4,[1],[1.0])|\n",
      "|computer software|associate's degree|             1|              9|115225|402941|         4.0|          1.0|   (4,[1],[1.0])|\n",
      "|      peripherals|      some college|             3|              8|106501|479323|         2.0|          0.0|   (4,[0],[1.0])|\n",
      "|         printers|associate's degree|             2|              6| 94553|373389|         0.0|          1.0|   (4,[1],[1.0])|\n",
      "|      peripherals|associate's degree|             2|              8|107173|462417|         2.0|          1.0|   (4,[1],[1.0])|\n",
      "|         printers|associate's degree|             3|              6| 98773|465677|         0.0|          1.0|   (4,[1],[1.0])|\n",
      "|      peripherals|       high school|             1|              7| 80287|339800|         2.0|          2.0|   (4,[2],[1.0])|\n",
      "|      peripherals|associate's degree|             2|              8|104696|485425|         2.0|          1.0|   (4,[1],[1.0])|\n",
      "+-----------------+------------------+--------------+---------------+------+------+------------+-------------+----------------+\n",
      "only showing top 20 rows\n",
      "\n"
     ]
    }
   ],
   "source": [
    "division_indexer = StringIndexer().setInputCol(\"division\").setOutputCol(\"division_num\").fit(df)\n",
    "# TODO build the other encoders\n",
    "\n",
    "indexed_df = division_indexer.transform(df)\n",
    "indexed_df.show()\n",
    "\n",
    "# education as one hot encoding\n",
    "education_indexer = StringIndexer().setInputCol(\"level of education\").setOutputCol(\"education_num\").fit(df)\n",
    "indexed_df = education_indexer.transform(indexed_df)\n",
    "\n",
    "edu_encoder = OneHotEncoder(inputCol='education_num',outputCol='education_onehot')\n",
    "encoded_df = edu_encoder.fit(indexed_df).transform(indexed_df)\n",
    "encoded_df.show()\n",
    "\n",
    "# indexed_df = education_indexer.transform(df)"
   ]
  },
  {
   "cell_type": "markdown",
   "metadata": {},
   "source": [
    "## Discretize sales"
   ]
  },
  {
   "cell_type": "code",
   "execution_count": null,
   "metadata": {},
   "outputs": [
    {
     "name": "stdout",
     "output_type": "stream",
     "text": [
      "+-----------------+------------------+--------------+---------------+------+------+---------------------+\n",
      "|         division|level of education|training level|work experience|salary| sales|sales_bucket_quantile|\n",
      "+-----------------+------------------+--------------+---------------+------+------+---------------------+\n",
      "|computer software|      some college|             1|              5| 92766|283647|                  3.0|\n",
      "|         printers|       high school|             3|              7|101828|490163|                  9.0|\n",
      "|         printers|associate's degree|             0|             10|105433|396790|                  7.0|\n",
      "|         printers|      some college|             2|              6| 86490|404898|                  7.0|\n",
      "|computer hardware|       high school|             1|              7| 90531|385136|                  6.0|\n",
      "|         printers|      some college|             0|             12|110420|443568|                  8.0|\n",
      "|computer hardware| bachelor's degree|             2|              6|105311|384543|                  6.0|\n",
      "|      peripherals|       high school|             2|              3| 72999|308055|                  4.0|\n",
      "|      peripherals|      some college|             0|              8| 94264|352745|                  5.0|\n",
      "|      peripherals|      some college|             0|             13|119663|507602|                  9.0|\n",
      "|      peripherals|associate's degree|             2|              8|102486|427391|                  7.0|\n",
      "|      peripherals|associate's degree|             2|              5| 93156|361313|                  5.0|\n",
      "|  office supplies|associate's degree|             0|              0| 51866| 87469|                  0.0|\n",
      "|computer software|associate's degree|             1|              9|115225|402941|                  7.0|\n",
      "|      peripherals|      some college|             3|              8|106501|479323|                  9.0|\n",
      "|         printers|associate's degree|             2|              6| 94553|373389|                  6.0|\n",
      "|      peripherals|associate's degree|             2|              8|107173|462417|                  8.0|\n",
      "|         printers|associate's degree|             3|              6| 98773|465677|                  8.0|\n",
      "|      peripherals|       high school|             1|              7| 80287|339800|                  5.0|\n",
      "|      peripherals|associate's degree|             2|              8|104696|485425|                  9.0|\n",
      "+-----------------+------------------+--------------+---------------+------+------+---------------------+\n",
      "only showing top 20 rows\n",
      "\n",
      "+-----------------+------------------+--------------+---------------+------+------+------------+-------------+----------------+---------------------+\n",
      "|         division|level of education|training level|work experience|salary| sales|division_num|education_num|education_onehot|sales_bucket_quantile|\n",
      "+-----------------+------------------+--------------+---------------+------+------+------------+-------------+----------------+---------------------+\n",
      "|computer software|      some college|             1|              5| 92766|283647|         4.0|          0.0|   (4,[0],[1.0])|                  3.0|\n",
      "|         printers|       high school|             3|              7|101828|490163|         0.0|          2.0|   (4,[2],[1.0])|                  9.0|\n",
      "|         printers|associate's degree|             0|             10|105433|396790|         0.0|          1.0|   (4,[1],[1.0])|                  7.0|\n",
      "|         printers|      some college|             2|              6| 86490|404898|         0.0|          0.0|   (4,[0],[1.0])|                  7.0|\n",
      "|computer hardware|       high school|             1|              7| 90531|385136|         3.0|          2.0|   (4,[2],[1.0])|                  6.0|\n",
      "|         printers|      some college|             0|             12|110420|443568|         0.0|          0.0|   (4,[0],[1.0])|                  8.0|\n",
      "|computer hardware| bachelor's degree|             2|              6|105311|384543|         3.0|          3.0|   (4,[3],[1.0])|                  6.0|\n",
      "|      peripherals|       high school|             2|              3| 72999|308055|         2.0|          2.0|   (4,[2],[1.0])|                  4.0|\n",
      "|      peripherals|      some college|             0|              8| 94264|352745|         2.0|          0.0|   (4,[0],[1.0])|                  5.0|\n",
      "|      peripherals|      some college|             0|             13|119663|507602|         2.0|          0.0|   (4,[0],[1.0])|                  9.0|\n",
      "|      peripherals|associate's degree|             2|              8|102486|427391|         2.0|          1.0|   (4,[1],[1.0])|                  7.0|\n",
      "|      peripherals|associate's degree|             2|              5| 93156|361313|         2.0|          1.0|   (4,[1],[1.0])|                  5.0|\n",
      "|  office supplies|associate's degree|             0|              0| 51866| 87469|         1.0|          1.0|   (4,[1],[1.0])|                  0.0|\n",
      "|computer software|associate's degree|             1|              9|115225|402941|         4.0|          1.0|   (4,[1],[1.0])|                  7.0|\n",
      "|      peripherals|      some college|             3|              8|106501|479323|         2.0|          0.0|   (4,[0],[1.0])|                  9.0|\n",
      "|         printers|associate's degree|             2|              6| 94553|373389|         0.0|          1.0|   (4,[1],[1.0])|                  6.0|\n",
      "|      peripherals|associate's degree|             2|              8|107173|462417|         2.0|          1.0|   (4,[1],[1.0])|                  8.0|\n",
      "|         printers|associate's degree|             3|              6| 98773|465677|         0.0|          1.0|   (4,[1],[1.0])|                  8.0|\n",
      "|      peripherals|       high school|             1|              7| 80287|339800|         2.0|          2.0|   (4,[2],[1.0])|                  5.0|\n",
      "|      peripherals|associate's degree|             2|              8|104696|485425|         2.0|          1.0|   (4,[1],[1.0])|                  9.0|\n",
      "+-----------------+------------------+--------------+---------------+------+------+------------+-------------+----------------+---------------------+\n",
      "only showing top 20 rows\n",
      "\n"
     ]
    }
   ],
   "source": [
    "discretizer = QuantileDiscretizer(numBuckets=10, inputCol=\"sales\", outputCol=\"sales_bucket_quantile\")\n",
    "# TODO add the discretizer to the result\n",
    "\n",
    "\n",
    "discretized_sales = discretizer.fit(df).transform(df)\n",
    "discretized_sales.show()\n",
    "\n",
    "# alternatively\n",
    "\n",
    "discretized_sales2 = discretizer.fit(encoded_df).transform(encoded_df)\n",
    "discretized_sales2.show()\n"
   ]
  },
  {
   "cell_type": "markdown",
   "metadata": {},
   "source": [
    "### Build labeled point semantic vector"
   ]
  },
  {
   "cell_type": "code",
   "execution_count": null,
   "metadata": {},
   "outputs": [],
   "source": [
    "feature_cols = [\"training level\",\"work experience\",\"salary\"] # TODO add the new attributes\n",
    "\n",
    "\n",
    "\n",
    "assembler =  VectorAssembler(outputCol=\"features\", inputCols=list(feature_cols))\n",
    "# TODO Build the labeled point semantic for sales with all new attributes"
   ]
  },
  {
   "cell_type": "markdown",
   "metadata": {},
   "source": [
    "### Normalization "
   ]
  },
  {
   "cell_type": "code",
   "execution_count": null,
   "metadata": {},
   "outputs": [],
   "source": [
    "# TODO normalize the features\n"
   ]
  },
  {
   "cell_type": "markdown",
   "metadata": {},
   "source": [
    "### Standardization"
   ]
  },
  {
   "cell_type": "code",
   "execution_count": null,
   "metadata": {},
   "outputs": [],
   "source": [
    "# TODO standardize the features\n"
   ]
  },
  {
   "cell_type": "code",
   "execution_count": null,
   "metadata": {},
   "outputs": [],
   "source": [
    "spark.stop()"
   ]
  }
 ],
 "metadata": {
  "kernelspec": {
   "display_name": "venv",
   "language": "python",
   "name": "python3"
  },
  "language_info": {
   "codemirror_mode": {
    "name": "ipython",
    "version": 3
   },
   "file_extension": ".py",
   "mimetype": "text/x-python",
   "name": "python",
   "nbconvert_exporter": "python",
   "pygments_lexer": "ipython3",
   "version": "3.12.6"
  }
 },
 "nbformat": 4,
 "nbformat_minor": 2
}
