{
 "cells": [
  {
   "cell_type": "code",
   "execution_count": null,
   "metadata": {},
   "outputs": [],
   "source": [
    "import urllib.request\n",
    "import ssl\n",
    "\n",
    "ssl._create_default_https_context = ssl._create_unverified_context\n",
    "url='https://dl.dropboxusercontent.com/s/0kg2drd90cpty9n/HRDataset_v14.csv?dl=1'\n",
    "\n",
    "urllib.request.urlretrieve(url, \"../data/HRDataset_v14.csv\")"
   ]
  }
 ],
 "metadata": {
  "kernelspec": {
   "display_name": "venv",
   "language": "python",
   "name": "python3"
  },
  "language_info": {
   "codemirror_mode": {
    "name": "ipython",
    "version": 3
   },
   "file_extension": ".py",
   "mimetype": "text/x-python",
   "name": "python",
   "nbconvert_exporter": "python",
   "pygments_lexer": "ipython3",
   "version": "3.11.4"
  },
  "orig_nbformat": 4,
  "vscode": {
   "interpreter": {
    "hash": "ec73c5cadf0015346794d0d74e423248cca6f411372265ff4d8f97fccf290024"
   }
  }
 },
 "nbformat": 4,
 "nbformat_minor": 2
}
