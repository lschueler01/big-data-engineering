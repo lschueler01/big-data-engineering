{
 "cells": [
  {
   "cell_type": "markdown",
   "metadata": {},
   "source": [
    "# Generate Sudoku Quizzes with different difficulties and one or more solutions"
   ]
  },
  {
   "cell_type": "code",
   "execution_count": null,
   "metadata": {},
   "outputs": [],
   "source": [
    "import sys\n",
    "sys.path.append(\"..\")\n",
    "from sudoku import Sudoku, DIFFICULTY_LEVELS\n",
    "import random\n",
    "import csv\n",
    "import numpy as np"
   ]
  },
  {
   "cell_type": "code",
   "execution_count": null,
   "metadata": {},
   "outputs": [],
   "source": [
    "path = \"../sudoku_data/\"\n",
    "random.seed(1234)"
   ]
  },
  {
   "cell_type": "code",
   "execution_count": null,
   "metadata": {},
   "outputs": [],
   "source": [
    "diff_levels = list(DIFFICULTY_LEVELS.keys())\n",
    "diff_levels.remove(\"Pretty hard\")\n",
    "diff_levels.remove(\"Hard\")\n",
    "result = list()\n",
    "# write the headers\n",
    "with open(path+'sudokufile.csv','w',newline='') as out:\n",
    "    csv_out=csv.writer(out,delimiter=',',quoting=csv.QUOTE_NONE, escapechar='\\\\')\n",
    "    csv_out.writerow(['quizzes','solutions','difficulty','num_solutions'])       \n",
    "for i in range (100):\n",
    "    for i in range(10000):\n",
    "        quiz, solution, diff_level, num_sol = Sudoku().generate(random.choice(diff_levels))\n",
    "        result.append ((''.join(map(str, np.concatenate(quiz))),\n",
    "                        ''.join(map(str, np.concatenate(solution))), \n",
    "                        diff_level,num_sol)) \n",
    "    # write the result to file\n",
    "    with open(path+'sudokufile.csv','a',newline='') as out:\n",
    "        csv_out=csv.writer(out,delimiter=',',quoting=csv.QUOTE_NONE, escapechar='\\\\')\n",
    "        csv_out.writerows(result)"
   ]
  }
 ],
 "metadata": {
  "kernelspec": {
   "display_name": "venv",
   "language": "python",
   "name": "python3"
  },
  "language_info": {
   "codemirror_mode": {
    "name": "ipython",
    "version": 3
   },
   "file_extension": ".py",
   "mimetype": "text/x-python",
   "name": "python",
   "nbconvert_exporter": "python",
   "pygments_lexer": "ipython3",
   "version": "3.11.4"
  }
 },
 "nbformat": 4,
 "nbformat_minor": 2
}
