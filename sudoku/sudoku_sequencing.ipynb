{
 "cells": [
  {
   "cell_type": "markdown",
   "metadata": {},
   "source": [
    "# Sequencing Sodoku Quizzes & Solutions"
   ]
  },
  {
   "cell_type": "code",
   "execution_count": 1,
   "metadata": {},
   "outputs": [],
   "source": [
    "import sys\n",
    "import pandas as pd\n",
    "import numpy as np\n",
    "sys.path.append(\"..\")"
   ]
  },
  {
   "cell_type": "code",
   "execution_count": 2,
   "metadata": {},
   "outputs": [
    {
     "data": {
      "text/html": [
       "<div>\n",
       "<style scoped>\n",
       "    .dataframe tbody tr th:only-of-type {\n",
       "        vertical-align: middle;\n",
       "    }\n",
       "\n",
       "    .dataframe tbody tr th {\n",
       "        vertical-align: top;\n",
       "    }\n",
       "\n",
       "    .dataframe thead th {\n",
       "        text-align: right;\n",
       "    }\n",
       "</style>\n",
       "<table border=\"1\" class=\"dataframe\">\n",
       "  <thead>\n",
       "    <tr style=\"text-align: right;\">\n",
       "      <th></th>\n",
       "      <th>quizzes</th>\n",
       "      <th>solutions</th>\n",
       "    </tr>\n",
       "  </thead>\n",
       "  <tbody>\n",
       "    <tr>\n",
       "      <th>0</th>\n",
       "      <td>0043002090050090010700600430060020871900074000...</td>\n",
       "      <td>8643712593258497619712658434361925871986574322...</td>\n",
       "    </tr>\n",
       "    <tr>\n",
       "      <th>1</th>\n",
       "      <td>0401000501070039605200080000000000170009068008...</td>\n",
       "      <td>3461792581875239645296483719658324174729168358...</td>\n",
       "    </tr>\n",
       "    <tr>\n",
       "      <th>2</th>\n",
       "      <td>6001203840084590720000060050002640300700800069...</td>\n",
       "      <td>6951273841384596727248369158512647392739815469...</td>\n",
       "    </tr>\n",
       "    <tr>\n",
       "      <th>3</th>\n",
       "      <td>4972000001004000050000160986203000403009000000...</td>\n",
       "      <td>4972583161864397252537164986293815473759641828...</td>\n",
       "    </tr>\n",
       "    <tr>\n",
       "      <th>4</th>\n",
       "      <td>0059103080094030600275001000300002010008200070...</td>\n",
       "      <td>4659123781894735623275681497386452919548216372...</td>\n",
       "    </tr>\n",
       "    <tr>\n",
       "      <th>...</th>\n",
       "      <td>...</td>\n",
       "      <td>...</td>\n",
       "    </tr>\n",
       "    <tr>\n",
       "      <th>999995</th>\n",
       "      <td>3000280000290000300054001077402030980086070031...</td>\n",
       "      <td>3175289464291768356854391277462135989586472131...</td>\n",
       "    </tr>\n",
       "    <tr>\n",
       "      <th>999996</th>\n",
       "      <td>0030006000040860057000009409350407208067200502...</td>\n",
       "      <td>5234976811942863757685139429356417288167294532...</td>\n",
       "    </tr>\n",
       "    <tr>\n",
       "      <th>999997</th>\n",
       "      <td>0003508200618040300500090000700600029030070100...</td>\n",
       "      <td>7493568212618745393582197468749613529235876146...</td>\n",
       "    </tr>\n",
       "    <tr>\n",
       "      <th>999998</th>\n",
       "      <td>0702006900030400010000650205600300000947005800...</td>\n",
       "      <td>4752816936239478511893657245628341793947165828...</td>\n",
       "    </tr>\n",
       "    <tr>\n",
       "      <th>999999</th>\n",
       "      <td>3004016201000804000050208300578000000007005030...</td>\n",
       "      <td>3984716251263854797456298316578139429147625838...</td>\n",
       "    </tr>\n",
       "  </tbody>\n",
       "</table>\n",
       "<p>1000000 rows × 2 columns</p>\n",
       "</div>"
      ],
      "text/plain": [
       "                                                  quizzes  \\\n",
       "0       0043002090050090010700600430060020871900074000...   \n",
       "1       0401000501070039605200080000000000170009068008...   \n",
       "2       6001203840084590720000060050002640300700800069...   \n",
       "3       4972000001004000050000160986203000403009000000...   \n",
       "4       0059103080094030600275001000300002010008200070...   \n",
       "...                                                   ...   \n",
       "999995  3000280000290000300054001077402030980086070031...   \n",
       "999996  0030006000040860057000009409350407208067200502...   \n",
       "999997  0003508200618040300500090000700600029030070100...   \n",
       "999998  0702006900030400010000650205600300000947005800...   \n",
       "999999  3004016201000804000050208300578000000007005030...   \n",
       "\n",
       "                                                solutions  \n",
       "0       8643712593258497619712658434361925871986574322...  \n",
       "1       3461792581875239645296483719658324174729168358...  \n",
       "2       6951273841384596727248369158512647392739815469...  \n",
       "3       4972583161864397252537164986293815473759641828...  \n",
       "4       4659123781894735623275681497386452919548216372...  \n",
       "...                                                   ...  \n",
       "999995  3175289464291768356854391277462135989586472131...  \n",
       "999996  5234976811942863757685139429356417288167294532...  \n",
       "999997  7493568212618745393582197468749613529235876146...  \n",
       "999998  4752816936239478511893657245628341793947165828...  \n",
       "999999  3984716251263854797456298316578139429147625838...  \n",
       "\n",
       "[1000000 rows x 2 columns]"
      ]
     },
     "metadata": {},
     "output_type": "display_data"
    }
   ],
   "source": [
    "path = \"../sudoku_data/\"\n",
    "data = pd.read_csv(path+\"sudoku_1_mio.csv\")\n",
    "display(data)"
   ]
  },
  {
   "cell_type": "code",
   "execution_count": null,
   "metadata": {},
   "outputs": [],
   "source": [
    "column_names = []\n",
    "for prefix in (\"Q\",\"S\"):\n",
    "    for row_num in range(1,10):\n",
    "        for col_num in [\"A\",\"B\",\"C\",\"D\",\"E\",\"F\",\"G\",\"H\",\"I\"] :\n",
    "            column_names.append(prefix+str(row_num)+col_num)"
   ]
  },
  {
   "cell_type": "code",
   "execution_count": null,
   "metadata": {},
   "outputs": [],
   "source": [
    "data[column_names[:81]]= data[\"quizzes\"].apply(lambda x : pd.Series(int(i) for i in str(x)))\n",
    "data[column_names[81:]]= data[\"solutions\"].apply(lambda x : pd.Series(int(i) for i in str(x)))\n",
    "data[column_names].to_csv(path+\"sudoku_1_mio_sequenced_columns.csv\",index=False)"
   ]
  }
 ],
 "metadata": {
  "kernelspec": {
   "display_name": "venv",
   "language": "python",
   "name": "python3"
  },
  "language_info": {
   "codemirror_mode": {
    "name": "ipython",
    "version": 3
   },
   "file_extension": ".py",
   "mimetype": "text/x-python",
   "name": "python",
   "nbconvert_exporter": "python",
   "pygments_lexer": "ipython3",
   "version": "3.11.4"
  },
  "orig_nbformat": 4
 },
 "nbformat": 4,
 "nbformat_minor": 2
}
