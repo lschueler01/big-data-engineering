{
 "cells": [
  {
   "cell_type": "markdown",
   "metadata": {},
   "source": [
    "# Sodoku Quality Test "
   ]
  },
  {
   "cell_type": "code",
   "execution_count": null,
   "metadata": {},
   "outputs": [],
   "source": [
    "import sys\n",
    "import pandas as pd\n",
    "import numpy as np\n",
    "sys.path.append(\"..\")"
   ]
  },
  {
   "cell_type": "code",
   "execution_count": null,
   "metadata": {},
   "outputs": [],
   "source": [
    "path = \"../data/\"\n",
    "data = pd.read_csv(path+\"sudoku_1_mio_sequenced_columns.csv\")\n",
    "#data = data[:10]\n",
    "display(data)"
   ]
  },
  {
   "cell_type": "markdown",
   "metadata": {},
   "source": [
    "## All cells are filled => no Null values"
   ]
  },
  {
   "cell_type": "code",
   "execution_count": null,
   "metadata": {},
   "outputs": [],
   "source": [
    "data = data[~data.isnull().any(axis=1)]"
   ]
  },
  {
   "cell_type": "markdown",
   "metadata": {},
   "source": [
    "## All numbers must be between 0 and 9 for the quizzes "
   ]
  },
  {
   "cell_type": "code",
   "execution_count": null,
   "metadata": {},
   "outputs": [],
   "source": [
    "query_conditions = []\n",
    "# Iterate over all quizzes col names \n",
    "for col_name in data.columns[:81]:\n",
    "    query_conditions.append (col_name + \" >= 0 & \" + col_name+ \" <= 9\")\n",
    "data = data.query(\" & \".join(query_conditions))"
   ]
  },
  {
   "cell_type": "markdown",
   "metadata": {},
   "source": [
    "## Solutions must contain numbers between 1 and 9"
   ]
  },
  {
   "cell_type": "code",
   "execution_count": null,
   "metadata": {},
   "outputs": [],
   "source": [
    "query_conditions = []\n",
    "# Iterate over all col names with solutions \n",
    "for col_name in data.columns[81:]:\n",
    "    query_conditions.append (col_name + \" > 0 & \" + col_name + \" <=9\")\n",
    "data = data.query(\" & \".join(query_conditions))"
   ]
  },
  {
   "cell_type": "markdown",
   "metadata": {},
   "source": [
    "## All cells != 0 must have identical content"
   ]
  },
  {
   "cell_type": "code",
   "execution_count": null,
   "metadata": {},
   "outputs": [],
   "source": [
    "# Build Query\n",
    "query_conditions = [] \n",
    "num_cols = int(data.columns.size/2 )\n",
    "for i in range(num_cols):\n",
    "    query_conditions.append (data.columns[i]+ \" > 0 & \" + data.columns[i] +\" == \"+data.columns[i+num_cols])\n",
    "data = data.query(\" | \".join(query_conditions))\n",
    "data"
   ]
  },
  {
   "cell_type": "markdown",
   "metadata": {},
   "source": [
    "## Checking Solutions: Checking all Rows and Columns"
   ]
  },
  {
   "cell_type": "code",
   "execution_count": null,
   "metadata": {},
   "outputs": [],
   "source": [
    "# Checking each row\n",
    "#start = 81\n",
    "df_only_solutions = data[data.columns[81:]]\n",
    "display(df_only_solutions)\n",
    "\n",
    "def is_in_range_and_unique(values, min_val, max_val):\n",
    "    \"\"\"Check if the list given contains only unique elements\"\"\"\n",
    "    if len(values) == len(set(values)):\n",
    "        return min(values) == min_val and max(values)== max_val \n",
    "    return False\n",
    "\n",
    "def check_unique_num_in_row_and_col(row_as_series):\n",
    "    \"\"\"Input: pd.Series, Output boolean\"\"\"\n",
    "    for start in range(0,row_as_series.size,9):\n",
    "        if not is_in_range_and_unique (row_as_series[start:start+9].to_list(),1,9):\n",
    "            return False\n",
    "    for start in range(0,9):\n",
    "        list_of_indexes = [*range (start,row_as_series.size,9)]\n",
    "        if not is_in_range_and_unique (row_as_series.iloc[list_of_indexes].to_list(),1,9):\n",
    "            return False\n",
    "    return True\n",
    "\n",
    "data[\"test_row\"] = df_only_solutions.apply(lambda x: check_unique_num_in_row_and_col(x),axis=1)\n",
    "data = data.query(\"test_row == True\")\n",
    "data = data.drop(columns=[\"test_row\"])\n",
    "data\n",
    "       "
   ]
  },
  {
   "cell_type": "markdown",
   "metadata": {},
   "source": [
    "## Checking Solutions: Checking all Squares"
   ]
  },
  {
   "cell_type": "code",
   "execution_count": null,
   "metadata": {},
   "outputs": [],
   "source": [
    "# check square\n",
    "# there are nine 3x3 squares \n",
    "# the first square has the indexes (S1A, S1B, S1C, \n",
    "#                                   S2A, S2B, S2C,\n",
    "#                                   S3A, S3B, S3C)\n",
    "\n",
    "def get_square_definition ():\n",
    "    \"\"\"Returns the square positions of a 9*9 sodoku\"\"\"\n",
    "    col_names = [\"A\",\"B\",\"C\",\"D\",\"E\",\"F\",\"G\",\"H\",\"I\"] \n",
    "    row_nums = [*range(1,10)]\n",
    "\n",
    "    col_chunks = np.array_split(col_names, 3)\n",
    "    row_chunks = np.array_split(row_nums, 3)\n",
    "    square_pos=[]\n",
    "    for curr_rows in row_chunks :\n",
    "        for curr_cols in col_chunks:\n",
    "            pos_names = []        \n",
    "            for curr_row in curr_rows :\n",
    "                for curr_col in curr_cols:\n",
    "                    pos_names.append(\"S\"+str(curr_row)+str(curr_col))\n",
    "            square_pos.append(pos_names)\n",
    "    return square_pos       \n",
    "\n",
    "def check_squares(row_as_series:pd.Series) -> bool:\n",
    "    \"\"\"Input=pd.Series Output = True/False\"\"\"\n",
    "    for curr_square in get_square_definition() : \n",
    "        if not is_in_range_and_unique(row_as_series.get(curr_square).to_list(),1,9):\n",
    "            return False\n",
    "    return True\n",
    "    \n",
    "\n",
    "df_only_solutions = data[data.columns[81:]]\n",
    "#df_only_solutions.apply(lambda x: check_squares(x),axis=1)\n",
    "data[\"test_row\"] = df_only_solutions.apply(lambda x: check_squares(x),axis=1)\n",
    "data = data.query(\"test_row == True\")\n",
    "data = data.drop(columns=[\"test_row\"])\n",
    "data"
   ]
  }
 ],
 "metadata": {
  "kernelspec": {
   "display_name": "venv",
   "language": "python",
   "name": "python3"
  },
  "language_info": {
   "codemirror_mode": {
    "name": "ipython",
    "version": 3
   },
   "file_extension": ".py",
   "mimetype": "text/x-python",
   "name": "python",
   "nbconvert_exporter": "python",
   "pygments_lexer": "ipython3",
   "version": "3.11.4"
  },
  "orig_nbformat": 4
 },
 "nbformat": 4,
 "nbformat_minor": 2
}
