{
 "cells": [
  {
   "cell_type": "markdown",
   "metadata": {},
   "source": [
    "# Copy the content of the data directory to the hdfs cluster"
   ]
  },
  {
   "cell_type": "code",
   "execution_count": 1,
   "metadata": {},
   "outputs": [],
   "source": [
    "from os import listdir\n",
    "from os.path import isfile, join\n",
    "from pyarrow import fs"
   ]
  },
  {
   "cell_type": "code",
   "execution_count": 3,
   "metadata": {},
   "outputs": [
    {
     "ename": "OSError",
     "evalue": "Unable to load libjvm: /usr/java/latest//lib/amd64/server/libjvm.so: cannot open shared object file: No such file or directory",
     "output_type": "error",
     "traceback": [
      "\u001b[0;31m---------------------------------------------------------------------------\u001b[0m",
      "\u001b[0;31mOSError\u001b[0m                                   Traceback (most recent call last)",
      "Cell \u001b[0;32mIn[3], line 1\u001b[0m\n\u001b[0;32m----> 1\u001b[0m hdfs \u001b[38;5;241m=\u001b[39m \u001b[43mfs\u001b[49m\u001b[38;5;241;43m.\u001b[39;49m\u001b[43mHadoopFileSystem\u001b[49m\u001b[43m(\u001b[49m\u001b[38;5;124;43m\"\u001b[39;49m\u001b[38;5;124;43m192.168.11.2\u001b[39;49m\u001b[38;5;124;43m\"\u001b[39;49m\u001b[43m,\u001b[49m\u001b[43m \u001b[49m\u001b[38;5;241;43m8020\u001b[39;49m\u001b[43m)\u001b[49m\n\u001b[1;32m      2\u001b[0m hdfs\u001b[38;5;241m.\u001b[39mget_file_info(\u001b[38;5;124m\"\u001b[39m\u001b[38;5;124m/data\u001b[39m\u001b[38;5;124m\"\u001b[39m)\n\u001b[1;32m      4\u001b[0m \u001b[38;5;66;03m#client = InsecureClient('http://192.168.11.2:9870', user='root')\u001b[39;00m\n\u001b[1;32m      5\u001b[0m \u001b[38;5;66;03m#client.makedirs(\"/data\", permission=755)\u001b[39;00m\n\u001b[1;32m      6\u001b[0m \u001b[38;5;66;03m#client.makedirs(\"/tmp\", permission=777)\u001b[39;00m\n\u001b[1;32m      7\u001b[0m \u001b[38;5;66;03m#client.makedirs(\"/app\", permission=777)\u001b[39;00m\n\u001b[1;32m      8\u001b[0m \u001b[38;5;66;03m#client.makedirs(\"/result\", permission=777)\u001b[39;00m\n",
      "File \u001b[0;32m/opt/conda/lib/python3.11/site-packages/pyarrow/_hdfs.pyx:97\u001b[0m, in \u001b[0;36mpyarrow._hdfs.HadoopFileSystem.__init__\u001b[0;34m()\u001b[0m\n",
      "File \u001b[0;32m/opt/conda/lib/python3.11/site-packages/pyarrow/error.pxi:154\u001b[0m, in \u001b[0;36mpyarrow.lib.pyarrow_internal_check_status\u001b[0;34m()\u001b[0m\n",
      "File \u001b[0;32m/opt/conda/lib/python3.11/site-packages/pyarrow/error.pxi:91\u001b[0m, in \u001b[0;36mpyarrow.lib.check_status\u001b[0;34m()\u001b[0m\n",
      "\u001b[0;31mOSError\u001b[0m: Unable to load libjvm: /usr/java/latest//lib/amd64/server/libjvm.so: cannot open shared object file: No such file or directory"
     ]
    }
   ],
   "source": [
    "hdfs = fs.HadoopFileSystem(\"192.168.11.2\", 8020)\n",
    "hdfs.get_file_info(\"/data\")\n",
    "\n",
    "#client = InsecureClient('http://192.168.11.2:9870', user='root')\n",
    "#client.makedirs(\"/data\", permission=755)\n",
    "#client.makedirs(\"/tmp\", permission=777)\n",
    "#client.makedirs(\"/app\", permission=777)\n",
    "#client.makedirs(\"/result\", permission=777)"
   ]
  },
  {
   "cell_type": "code",
   "execution_count": null,
   "metadata": {},
   "outputs": [],
   "source": [
    "client.list(\"/\", status=False)"
   ]
  },
  {
   "cell_type": "code",
   "execution_count": null,
   "metadata": {},
   "outputs": [],
   "source": [
    "datadir = \"data/\"\n",
    "allfiles = [f for f in listdir(datadir) if isfile(join(datadir, f))]\n",
    "datafiles = list(filter(lambda x: x[0]!= \".\", allfiles))\n",
    "for file in datafiles:\n",
    "    print(f\"processing file {file}\")\n",
    "    client.upload(f\"/data/{file}\", f\"data/{file}\", n_threads=1, temp_dir=\"/tmp\", chunk_size=65536, progress=None, cleanup=True, overwrite=True)"
   ]
  }
 ],
 "metadata": {
  "kernelspec": {
   "display_name": "Python 3 (ipykernel)",
   "language": "python",
   "name": "python3"
  },
  "language_info": {
   "codemirror_mode": {
    "name": "ipython",
    "version": 3
   },
   "file_extension": ".py",
   "mimetype": "text/x-python",
   "name": "python",
   "nbconvert_exporter": "python",
   "pygments_lexer": "ipython3",
   "version": "3.11.10"
  }
 },
 "nbformat": 4,
 "nbformat_minor": 4
}
